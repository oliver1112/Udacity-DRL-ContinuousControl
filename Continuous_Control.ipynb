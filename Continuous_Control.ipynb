{
 "cells": [
  {
   "cell_type": "markdown",
   "metadata": {},
   "source": [
    "# Continuous Control\n",
    "\n",
    "---\n",
    "\n",
    "In this notebook, you will learn how to use the Unity ML-Agents environment for the second project of the [Deep Reinforcement Learning Nanodegree](https://www.udacity.com/course/deep-reinforcement-learning-nanodegree--nd893) program.\n",
    "\n",
    "### 1. Start the Environment\n",
    "\n",
    "We begin by importing the necessary packages.  If the code cell below returns an error, please revisit the project instructions to double-check that you have installed [Unity ML-Agents](https://github.com/Unity-Technologies/ml-agents/blob/master/docs/Installation.md) and [NumPy](http://www.numpy.org/)."
   ]
  },
  {
   "cell_type": "code",
   "execution_count": 1,
   "metadata": {},
   "outputs": [],
   "source": [
    "from unityagents import UnityEnvironment\n",
    "\n",
    "import random\n",
    "import torch\n",
    "import time\n",
    "import numpy as np\n",
    "from collections import deque\n",
    "import matplotlib.pyplot as plt\n",
    "%matplotlib inline\n",
    "\n",
    "from ddpg_agent import Agent"
   ]
  },
  {
   "cell_type": "markdown",
   "metadata": {},
   "source": [
    "Next, we will start the environment!  **_Before running the code cell below_**, change the `file_name` parameter to match the location of the Unity environment that you downloaded.\n",
    "\n",
    "- **Mac**: `\"path/to/Reacher.app\"`\n",
    "- **Windows** (x86): `\"path/to/Reacher_Windows_x86/Reacher.exe\"`\n",
    "- **Windows** (x86_64): `\"path/to/Reacher_Windows_x86_64/Reacher.exe\"`\n",
    "- **Linux** (x86): `\"path/to/Reacher_Linux/Reacher.x86\"`\n",
    "- **Linux** (x86_64): `\"path/to/Reacher_Linux/Reacher.x86_64\"`\n",
    "- **Linux** (x86, headless): `\"path/to/Reacher_Linux_NoVis/Reacher.x86\"`\n",
    "- **Linux** (x86_64, headless): `\"path/to/Reacher_Linux_NoVis/Reacher.x86_64\"`\n",
    "\n",
    "For instance, if you are using a Mac, then you downloaded `Reacher.app`.  If this file is in the same folder as the notebook, then the line below should appear as follows:\n",
    "```\n",
    "env = UnityEnvironment(file_name=\"Reacher.app\")\n",
    "```"
   ]
  },
  {
   "cell_type": "code",
   "execution_count": 2,
   "metadata": {
    "scrolled": true
   },
   "outputs": [
    {
     "name": "stderr",
     "output_type": "stream",
     "text": [
      "INFO:unityagents:\n",
      "'Academy' started successfully!\n",
      "Unity Academy name: Academy\n",
      "        Number of Brains: 1\n",
      "        Number of External Brains : 1\n",
      "        Lesson number : 0\n",
      "        Reset Parameters :\n",
      "\t\tgoal_size -> 5.0\n",
      "\t\tgoal_speed -> 1.0\n",
      "Unity brain name: ReacherBrain\n",
      "        Number of Visual Observations (per agent): 0\n",
      "        Vector Observation space type: continuous\n",
      "        Vector Observation space size (per agent): 33\n",
      "        Number of stacked Vector Observation: 1\n",
      "        Vector Action space type: continuous\n",
      "        Vector Action space size (per agent): 4\n",
      "        Vector Action descriptions: , , , \n"
     ]
    }
   ],
   "source": [
    "env = UnityEnvironment(file_name=\"Reacher_Windows_x86_64/Reacher.exe\")"
   ]
  },
  {
   "cell_type": "markdown",
   "metadata": {},
   "source": [
    "Environments contain **_brains_** which are responsible for deciding the actions of their associated agents. Here we check for the first brain available, and set it as the default brain we will be controlling from Python."
   ]
  },
  {
   "cell_type": "code",
   "execution_count": 3,
   "metadata": {},
   "outputs": [],
   "source": [
    "# get the default brain\n",
    "brain_name = env.brain_names[0]\n",
    "brain = env.brains[brain_name]"
   ]
  },
  {
   "cell_type": "markdown",
   "metadata": {},
   "source": [
    "### 2. Examine the State and Action Spaces\n",
    "\n",
    "In this environment, a double-jointed arm can move to target locations. A reward of `+0.1` is provided for each step that the agent's hand is in the goal location. Thus, the goal of your agent is to maintain its position at the target location for as many time steps as possible.\n",
    "\n",
    "The observation space consists of `33` variables corresponding to position, rotation, velocity, and angular velocities of the arm.  Each action is a vector with four numbers, corresponding to torque applicable to two joints.  Every entry in the action vector must be a number between `-1` and `1`.\n",
    "\n",
    "Run the code cell below to print some information about the environment."
   ]
  },
  {
   "cell_type": "code",
   "execution_count": 4,
   "metadata": {},
   "outputs": [
    {
     "name": "stdout",
     "output_type": "stream",
     "text": [
      "Number of agents: 1\n",
      "Size of each action: 4\n",
      "There are 1 agents. Each observes a state with length: 33\n",
      "The state for the first agent looks like: [ 0.00000000e+00 -4.00000000e+00  0.00000000e+00  1.00000000e+00\n",
      " -0.00000000e+00 -0.00000000e+00 -4.37113883e-08  0.00000000e+00\n",
      "  0.00000000e+00  0.00000000e+00  0.00000000e+00  0.00000000e+00\n",
      "  0.00000000e+00  0.00000000e+00 -1.00000000e+01  0.00000000e+00\n",
      "  1.00000000e+00 -0.00000000e+00 -0.00000000e+00 -4.37113883e-08\n",
      "  0.00000000e+00  0.00000000e+00  0.00000000e+00  0.00000000e+00\n",
      "  0.00000000e+00  0.00000000e+00  5.75471878e+00 -1.00000000e+00\n",
      "  5.55726671e+00  0.00000000e+00  1.00000000e+00  0.00000000e+00\n",
      " -1.68164849e-01]\n"
     ]
    }
   ],
   "source": [
    "# reset the environment\n",
    "env_info = env.reset(train_mode=True)[brain_name]\n",
    "\n",
    "# number of agents\n",
    "num_agents = len(env_info.agents)\n",
    "print('Number of agents:', num_agents)\n",
    "\n",
    "# size of each action\n",
    "action_size = brain.vector_action_space_size\n",
    "print('Size of each action:', action_size)\n",
    "\n",
    "# examine the state space \n",
    "states = env_info.vector_observations\n",
    "state_size = states.shape[1]\n",
    "print('There are {} agents. Each observes a state with length: {}'.format(states.shape[0], state_size))\n",
    "print('The state for the first agent looks like:', states[0])"
   ]
  },
  {
   "cell_type": "markdown",
   "metadata": {},
   "source": [
    "### 3. Take Random Actions in the Environment\n",
    "\n",
    "In the next code cell, you will learn how to use the Python API to control the agent and receive feedback from the environment.\n",
    "\n",
    "Once this cell is executed, you will watch the agent's performance, if it selects an action at random with each time step.  A window should pop up that allows you to observe the agent, as it moves through the environment.  \n",
    "\n",
    "Of course, as part of the project, you'll have to change the code so that the agent is able to use its experience to gradually choose better actions when interacting with the environment!"
   ]
  },
  {
   "cell_type": "code",
   "execution_count": 5,
   "metadata": {},
   "outputs": [
    {
     "name": "stdout",
     "output_type": "stream",
     "text": [
      "Total score (averaged over agents) this episode: 0.1099999975413084\n"
     ]
    }
   ],
   "source": [
    "env_info = env.reset(train_mode=True)[brain_name]     # reset the environment    \n",
    "states = env_info.vector_observations                  # get the current state (for each agent)\n",
    "scores = np.zeros(num_agents)                          # initialize the score (for each agent)\n",
    "while True:\n",
    "    actions = np.random.randn(num_agents, action_size) # select an action (for each agent)\n",
    "    actions = np.clip(actions, -1, 1)                  # all actions between -1 and 1\n",
    "    env_info = env.step(actions)[brain_name]           # send all actions to tne environment\n",
    "    next_states = env_info.vector_observations         # get next state (for each agent)\n",
    "    rewards = env_info.rewards                         # get reward (for each agent)\n",
    "    dones = env_info.local_done                        # see if episode finished\n",
    "    scores += env_info.rewards                         # update the score (for each agent)\n",
    "    states = next_states                               # roll over states to next time step\n",
    "    if np.any(dones):                                  # exit loop if episode finished\n",
    "        break\n",
    "print('Total score (averaged over agents) this episode: {}'.format(np.mean(scores)))"
   ]
  },
  {
   "cell_type": "markdown",
   "metadata": {},
   "source": [
    "When finished, you can close the environment."
   ]
  },
  {
   "cell_type": "markdown",
   "metadata": {},
   "source": [
    "### 4. It's Your Turn!\n",
    "\n",
    "Now it's your turn to train your own agent to solve the environment!  When training the environment, set `train_mode=True`, so that the line for resetting the environment looks like the following:\n",
    "```python\n",
    "env_info = env.reset(train_mode=True)[brain_name]\n",
    "```"
   ]
  },
  {
   "cell_type": "code",
   "execution_count": 7,
   "metadata": {},
   "outputs": [],
   "source": [
    "def ddpg(n_episodes=500):\n",
    "    scores_deque = deque(maxlen=100)\n",
    "    scores = []\n",
    "    aver_scores = []\n",
    "    \n",
    "    for i_episode in range(1, n_episodes+1):\n",
    "        env_info = env.reset(train_mode=True)[brain_name]     # reset the environment    \n",
    "        states = env_info.vector_observations\n",
    "        agent.reset()\n",
    "        score = np.zeros(num_agents)\n",
    "        while True:\n",
    "            actions = agent.act(states)\n",
    "            env_info = env.step(actions)[brain_name]           # send all actions to tne environment\n",
    "            next_states = env_info.vector_observations         # get next state (for each agent)\n",
    "            rewards = env_info.rewards                         # get reward (for each agent)\n",
    "            dones = env_info.local_done                        # see if episode finished\n",
    "            agent.step(states, actions, rewards, next_states, dones)\n",
    "            states = next_states\n",
    "            score += env_info.rewards\n",
    "            if np.any(dones):\n",
    "                break \n",
    "        \n",
    "        scores_deque.append(score)\n",
    "        aver_score = np.mean(scores_deque)\n",
    "        scores.append(score)\n",
    "        aver_scores.append(aver_score)\n",
    "        print('\\rEpisode {}\\tAverage Score: {:.2f}\\tScore: {:.2f}'.format(i_episode, aver_score, np.mean(score)))\n",
    "        \n",
    "        \n",
    "        if np.mean(scores_deque) > 30:\n",
    "            torch.save(agent.actor_local.state_dict(), 'checkpoint_actor.pth')\n",
    "            torch.save(agent.critic_local.state_dict(), 'checkpoint_critic.pth')\n",
    "            break\n",
    "            \n",
    "    return scores, aver_scores"
   ]
  },
  {
   "cell_type": "code",
   "execution_count": 8,
   "metadata": {},
   "outputs": [
    {
     "name": "stderr",
     "output_type": "stream",
     "text": [
      "D:\\anaconda\\lib\\site-packages\\torch\\nn\\functional.py:1374: UserWarning: nn.functional.tanh is deprecated. Use torch.tanh instead.\n",
      "  warnings.warn(\"nn.functional.tanh is deprecated. Use torch.tanh instead.\")\n"
     ]
    },
    {
     "name": "stdout",
     "output_type": "stream",
     "text": [
      "Episode 1\tAverage Score: 0.05\tScore: 0.05\n",
      "Episode 2\tAverage Score: 0.46\tScore: 0.88\n",
      "Episode 3\tAverage Score: 0.51\tScore: 0.59\n",
      "Episode 4\tAverage Score: 0.45\tScore: 0.29\n",
      "Episode 5\tAverage Score: 0.40\tScore: 0.20\n",
      "Episode 6\tAverage Score: 0.46\tScore: 0.77\n",
      "Episode 7\tAverage Score: 0.53\tScore: 0.94\n",
      "Episode 8\tAverage Score: 0.62\tScore: 1.25\n",
      "Episode 9\tAverage Score: 0.58\tScore: 0.26\n",
      "Episode 10\tAverage Score: 0.59\tScore: 0.66\n",
      "Episode 11\tAverage Score: 0.58\tScore: 0.54\n",
      "Episode 12\tAverage Score: 0.58\tScore: 0.55\n",
      "Episode 13\tAverage Score: 0.58\tScore: 0.60\n",
      "Episode 14\tAverage Score: 0.59\tScore: 0.63\n",
      "Episode 15\tAverage Score: 0.65\tScore: 1.57\n",
      "Episode 16\tAverage Score: 0.72\tScore: 1.76\n",
      "Episode 17\tAverage Score: 0.72\tScore: 0.72\n",
      "Episode 18\tAverage Score: 0.70\tScore: 0.41\n",
      "Episode 19\tAverage Score: 0.75\tScore: 1.54\n",
      "Episode 20\tAverage Score: 0.78\tScore: 1.39\n",
      "Episode 21\tAverage Score: 0.80\tScore: 1.11\n",
      "Episode 22\tAverage Score: 0.76\tScore: 0.00\n",
      "Episode 23\tAverage Score: 0.77\tScore: 1.01\n",
      "Episode 24\tAverage Score: 0.78\tScore: 1.07\n",
      "Episode 25\tAverage Score: 0.78\tScore: 0.75\n",
      "Episode 26\tAverage Score: 0.77\tScore: 0.49\n",
      "Episode 27\tAverage Score: 0.82\tScore: 2.19\n",
      "Episode 28\tAverage Score: 0.85\tScore: 1.55\n",
      "Episode 29\tAverage Score: 0.87\tScore: 1.33\n",
      "Episode 30\tAverage Score: 0.90\tScore: 1.96\n",
      "Episode 31\tAverage Score: 0.91\tScore: 1.18\n",
      "Episode 32\tAverage Score: 0.90\tScore: 0.59\n",
      "Episode 33\tAverage Score: 0.97\tScore: 3.24\n",
      "Episode 34\tAverage Score: 1.05\tScore: 3.51\n",
      "Episode 35\tAverage Score: 1.14\tScore: 4.48\n",
      "Episode 36\tAverage Score: 1.18\tScore: 2.53\n",
      "Episode 37\tAverage Score: 1.19\tScore: 1.48\n",
      "Episode 38\tAverage Score: 1.26\tScore: 3.85\n",
      "Episode 39\tAverage Score: 1.29\tScore: 2.52\n",
      "Episode 40\tAverage Score: 1.31\tScore: 1.91\n",
      "Episode 41\tAverage Score: 1.34\tScore: 2.75\n",
      "Episode 42\tAverage Score: 1.38\tScore: 2.87\n",
      "Episode 43\tAverage Score: 1.42\tScore: 3.02\n",
      "Episode 44\tAverage Score: 1.47\tScore: 3.70\n",
      "Episode 45\tAverage Score: 1.51\tScore: 3.47\n",
      "Episode 46\tAverage Score: 1.56\tScore: 3.50\n",
      "Episode 47\tAverage Score: 1.60\tScore: 3.61\n",
      "Episode 48\tAverage Score: 1.64\tScore: 3.59\n",
      "Episode 49\tAverage Score: 1.66\tScore: 2.58\n",
      "Episode 50\tAverage Score: 1.72\tScore: 4.71\n",
      "Episode 51\tAverage Score: 1.79\tScore: 5.11\n",
      "Episode 52\tAverage Score: 1.87\tScore: 6.02\n",
      "Episode 53\tAverage Score: 1.89\tScore: 2.65\n",
      "Episode 54\tAverage Score: 1.91\tScore: 3.19\n",
      "Episode 55\tAverage Score: 1.93\tScore: 3.02\n",
      "Episode 56\tAverage Score: 1.97\tScore: 3.99\n",
      "Episode 57\tAverage Score: 2.01\tScore: 4.30\n",
      "Episode 58\tAverage Score: 2.02\tScore: 2.65\n",
      "Episode 59\tAverage Score: 2.08\tScore: 5.42\n",
      "Episode 60\tAverage Score: 2.11\tScore: 3.83\n",
      "Episode 61\tAverage Score: 2.17\tScore: 5.81\n",
      "Episode 62\tAverage Score: 2.20\tScore: 4.47\n",
      "Episode 63\tAverage Score: 2.20\tScore: 1.90\n",
      "Episode 64\tAverage Score: 2.23\tScore: 4.40\n",
      "Episode 65\tAverage Score: 2.28\tScore: 5.45\n",
      "Episode 66\tAverage Score: 2.28\tScore: 2.02\n",
      "Episode 67\tAverage Score: 2.28\tScore: 2.69\n",
      "Episode 68\tAverage Score: 2.34\tScore: 5.77\n",
      "Episode 69\tAverage Score: 2.39\tScore: 6.03\n",
      "Episode 70\tAverage Score: 2.50\tScore: 10.16\n",
      "Episode 71\tAverage Score: 2.57\tScore: 7.59\n",
      "Episode 72\tAverage Score: 2.64\tScore: 7.39\n",
      "Episode 73\tAverage Score: 2.68\tScore: 5.33\n",
      "Episode 74\tAverage Score: 2.69\tScore: 3.78\n",
      "Episode 75\tAverage Score: 2.74\tScore: 6.37\n",
      "Episode 76\tAverage Score: 2.82\tScore: 8.95\n",
      "Episode 77\tAverage Score: 2.86\tScore: 5.62\n",
      "Episode 78\tAverage Score: 2.90\tScore: 6.06\n",
      "Episode 79\tAverage Score: 3.02\tScore: 12.58\n",
      "Episode 80\tAverage Score: 3.04\tScore: 4.85\n",
      "Episode 81\tAverage Score: 3.17\tScore: 13.18\n",
      "Episode 82\tAverage Score: 3.25\tScore: 9.83\n",
      "Episode 83\tAverage Score: 3.37\tScore: 12.91\n",
      "Episode 84\tAverage Score: 3.42\tScore: 8.17\n",
      "Episode 85\tAverage Score: 3.52\tScore: 11.80\n",
      "Episode 86\tAverage Score: 3.58\tScore: 8.06\n",
      "Episode 87\tAverage Score: 3.65\tScore: 9.84\n",
      "Episode 88\tAverage Score: 3.72\tScore: 10.03\n",
      "Episode 89\tAverage Score: 3.76\tScore: 7.65\n",
      "Episode 90\tAverage Score: 3.82\tScore: 8.94\n",
      "Episode 91\tAverage Score: 3.96\tScore: 16.44\n",
      "Episode 92\tAverage Score: 4.06\tScore: 13.18\n",
      "Episode 93\tAverage Score: 4.12\tScore: 9.84\n",
      "Episode 94\tAverage Score: 4.22\tScore: 13.12\n",
      "Episode 95\tAverage Score: 4.34\tScore: 15.69\n",
      "Episode 96\tAverage Score: 4.38\tScore: 8.57\n",
      "Episode 97\tAverage Score: 4.59\tScore: 24.29\n",
      "Episode 98\tAverage Score: 4.74\tScore: 19.08\n",
      "Episode 99\tAverage Score: 4.89\tScore: 20.07\n",
      "Episode 100\tAverage Score: 5.05\tScore: 21.11\n",
      "Episode 101\tAverage Score: 5.24\tScore: 18.63\n",
      "Episode 102\tAverage Score: 5.33\tScore: 9.47\n",
      "Episode 103\tAverage Score: 5.49\tScore: 16.89\n",
      "Episode 104\tAverage Score: 5.62\tScore: 13.79\n",
      "Episode 105\tAverage Score: 5.86\tScore: 24.00\n",
      "Episode 106\tAverage Score: 6.06\tScore: 20.55\n",
      "Episode 107\tAverage Score: 6.19\tScore: 14.47\n",
      "Episode 108\tAverage Score: 6.40\tScore: 21.73\n",
      "Episode 109\tAverage Score: 6.64\tScore: 23.90\n",
      "Episode 110\tAverage Score: 6.83\tScore: 20.42\n",
      "Episode 111\tAverage Score: 7.02\tScore: 19.37\n",
      "Episode 112\tAverage Score: 7.26\tScore: 24.02\n",
      "Episode 113\tAverage Score: 7.43\tScore: 18.17\n",
      "Episode 114\tAverage Score: 7.65\tScore: 22.76\n",
      "Episode 115\tAverage Score: 7.91\tScore: 26.97\n",
      "Episode 116\tAverage Score: 8.19\tScore: 30.29\n",
      "Episode 117\tAverage Score: 8.34\tScore: 15.04\n",
      "Episode 118\tAverage Score: 8.55\tScore: 21.92\n",
      "Episode 119\tAverage Score: 8.82\tScore: 28.92\n",
      "Episode 120\tAverage Score: 9.09\tScore: 28.13\n",
      "Episode 121\tAverage Score: 9.32\tScore: 23.91\n",
      "Episode 122\tAverage Score: 9.66\tScore: 34.02\n",
      "Episode 123\tAverage Score: 10.00\tScore: 34.95\n",
      "Episode 124\tAverage Score: 10.32\tScore: 33.01\n",
      "Episode 125\tAverage Score: 10.65\tScore: 34.13\n",
      "Episode 126\tAverage Score: 10.99\tScore: 34.36\n",
      "Episode 127\tAverage Score: 11.31\tScore: 33.81\n",
      "Episode 128\tAverage Score: 11.54\tScore: 24.75\n",
      "Episode 129\tAverage Score: 11.79\tScore: 26.00\n",
      "Episode 130\tAverage Score: 12.11\tScore: 34.55\n",
      "Episode 131\tAverage Score: 12.47\tScore: 36.69\n",
      "Episode 132\tAverage Score: 12.81\tScore: 35.36\n",
      "Episode 133\tAverage Score: 13.14\tScore: 36.03\n",
      "Episode 134\tAverage Score: 13.46\tScore: 35.20\n",
      "Episode 135\tAverage Score: 13.75\tScore: 33.02\n",
      "Episode 136\tAverage Score: 14.05\tScore: 33.51\n",
      "Episode 137\tAverage Score: 14.38\tScore: 34.22\n",
      "Episode 138\tAverage Score: 14.71\tScore: 36.95\n",
      "Episode 139\tAverage Score: 15.08\tScore: 39.64\n",
      "Episode 140\tAverage Score: 15.44\tScore: 37.84\n",
      "Episode 141\tAverage Score: 15.79\tScore: 36.97\n",
      "Episode 142\tAverage Score: 16.09\tScore: 33.59\n",
      "Episode 143\tAverage Score: 16.42\tScore: 36.16\n",
      "Episode 144\tAverage Score: 16.76\tScore: 37.41\n",
      "Episode 145\tAverage Score: 17.12\tScore: 38.89\n",
      "Episode 146\tAverage Score: 17.45\tScore: 36.41\n",
      "Episode 147\tAverage Score: 17.80\tScore: 39.31\n",
      "Episode 148\tAverage Score: 18.16\tScore: 39.04\n",
      "Episode 149\tAverage Score: 18.53\tScore: 39.62\n",
      "Episode 150\tAverage Score: 18.86\tScore: 38.26\n",
      "Episode 151\tAverage Score: 19.16\tScore: 34.60\n",
      "Episode 152\tAverage Score: 19.49\tScore: 39.61\n",
      "Episode 153\tAverage Score: 19.86\tScore: 38.94\n",
      "Episode 154\tAverage Score: 20.15\tScore: 32.64\n",
      "Episode 155\tAverage Score: 20.43\tScore: 30.75\n",
      "Episode 156\tAverage Score: 20.78\tScore: 39.12\n",
      "Episode 157\tAverage Score: 21.07\tScore: 33.64\n",
      "Episode 158\tAverage Score: 21.42\tScore: 37.31\n",
      "Episode 159\tAverage Score: 21.61\tScore: 24.85\n",
      "Episode 160\tAverage Score: 21.95\tScore: 37.82\n",
      "Episode 161\tAverage Score: 22.25\tScore: 35.35\n",
      "Episode 162\tAverage Score: 22.47\tScore: 26.73\n",
      "Episode 163\tAverage Score: 22.79\tScore: 34.17\n",
      "Episode 164\tAverage Score: 23.13\tScore: 38.12\n",
      "Episode 165\tAverage Score: 23.47\tScore: 39.53\n",
      "Episode 166\tAverage Score: 23.84\tScore: 38.99\n",
      "Episode 167\tAverage Score: 24.18\tScore: 36.61\n",
      "Episode 168\tAverage Score: 24.52\tScore: 39.32\n",
      "Episode 169\tAverage Score: 24.84\tScore: 38.56\n",
      "Episode 170\tAverage Score: 25.11\tScore: 37.45\n",
      "Episode 171\tAverage Score: 25.37\tScore: 33.31\n",
      "Episode 172\tAverage Score: 25.67\tScore: 37.38\n",
      "Episode 173\tAverage Score: 25.97\tScore: 35.08\n",
      "Episode 174\tAverage Score: 26.31\tScore: 38.31\n",
      "Episode 175\tAverage Score: 26.61\tScore: 36.00\n",
      "Episode 176\tAverage Score: 26.91\tScore: 38.51\n",
      "Episode 177\tAverage Score: 27.10\tScore: 25.05\n",
      "Episode 178\tAverage Score: 27.32\tScore: 28.14\n",
      "Episode 179\tAverage Score: 27.41\tScore: 21.28\n",
      "Episode 180\tAverage Score: 27.67\tScore: 31.02\n",
      "Episode 181\tAverage Score: 27.89\tScore: 35.46\n",
      "Episode 182\tAverage Score: 28.10\tScore: 30.75\n",
      "Episode 183\tAverage Score: 28.26\tScore: 29.16\n",
      "Episode 184\tAverage Score: 28.48\tScore: 30.14\n",
      "Episode 185\tAverage Score: 28.74\tScore: 37.24\n"
     ]
    },
    {
     "name": "stdout",
     "output_type": "stream",
     "text": [
      "Episode 186\tAverage Score: 29.04\tScore: 37.91\n",
      "Episode 187\tAverage Score: 29.27\tScore: 33.34\n",
      "Episode 188\tAverage Score: 29.51\tScore: 33.73\n",
      "Episode 189\tAverage Score: 29.78\tScore: 35.15\n",
      "Episode 190\tAverage Score: 29.98\tScore: 28.09\n",
      "Episode 191\tAverage Score: 30.18\tScore: 36.80\n"
     ]
    },
    {
     "data": {
      "image/png": "[encoded data removed]",
      "text/plain": [
       "<Figure size 432x288 with 1 Axes>"
      ]
     },
     "metadata": {
      "needs_background": "light"
     },
     "output_type": "display_data"
    },
    {
     "name": "stdout",
     "output_type": "stream",
     "text": [
      "Running Time: 1h 40m 54s\n"
     ]
    }
   ],
   "source": [
    "#run\n",
    "start_t = time.time()\n",
    "agent = Agent(state_size=33, action_size=4, random_seed=2)\n",
    "scores, aver_scores = ddpg()\n",
    "\n",
    "#plot\n",
    "fig = plt.figure()\n",
    "ax = fig.add_subplot(111)\n",
    "plt.plot(np.arange(1, len(scores)+1), scores, label='score')\n",
    "plt.plot(np.arange(1, len(scores)+1), aver_scores,  label='average score')\n",
    "plt.ylabel('Score')\n",
    "plt.xlabel('Episode #')\n",
    "plt.legend()\n",
    "plt.show()\n",
    "#time calculate\n",
    "end_t = time.time()\n",
    "run_t = end_t - start_t\n",
    "run_h = run_t // 3600\n",
    "run_min = (run_t % 3600)//60\n",
    "run_s = run_t % 60\n",
    "\n",
    "print('Running Time: {:.0f}h {:.0f}m {:.0f}s'.format(run_h, run_min, run_s))"
   ]
  },
  {
   "cell_type": "code",
   "execution_count": 9,
   "metadata": {},
   "outputs": [
    {
     "name": "stderr",
     "output_type": "stream",
     "text": [
      "D:\\anaconda\\lib\\site-packages\\torch\\nn\\functional.py:1374: UserWarning: nn.functional.tanh is deprecated. Use torch.tanh instead.\n",
      "  warnings.warn(\"nn.functional.tanh is deprecated. Use torch.tanh instead.\")\n"
     ]
    },
    {
     "name": "stdout",
     "output_type": "stream",
     "text": [
      "Total score (averaged over agents) this episode: 32.79999926686287\n"
     ]
    }
   ],
   "source": [
    "agent = Agent(state_size=33, action_size=4, random_seed=2)\n",
    "agent.actor_local.load_state_dict(torch.load('checkpoint_actor.pth'))\n",
    "agent.critic_local.load_state_dict(torch.load('checkpoint_critic.pth'))\n",
    "\n",
    "#See the trained agent\n",
    "env_info = env.reset(train_mode=False)[brain_name]     # reset the environment    \n",
    "states = env_info.vector_observations                  # get the current state (for each agent)\n",
    "scores = np.zeros(num_agents)                          # initialize the score (for each agent)\n",
    "while True:\n",
    "    actions = agent.act(states, add_noise=False)\n",
    "    env_info = env.step(actions)[brain_name]           # send all actions to tne environment\n",
    "    next_states = env_info.vector_observations         # get next state (for each agent)\n",
    "    rewards = env_info.rewards                         # get reward (for each agent)\n",
    "    dones = env_info.local_done                        # see if episode finished\n",
    "    scores += env_info.rewards                         # update the score (for each agent)\n",
    "    states = next_states                               # roll over states to next time step\n",
    "    if np.any(dones):                                  # exit loop if episode finished\n",
    "        break\n",
    "print('Total score (averaged over agents) this episode: {}'.format(np.mean(scores)))"
   ]
  },
  {
   "cell_type": "code",
   "execution_count": 10,
   "metadata": {},
   "outputs": [],
   "source": [
    "env.close()"
   ]
  }
 ],
 "metadata": {
  "kernelspec": {
   "display_name": "Python 3",
   "language": "python",
   "name": "python3"
  },
  "language_info": {
   "codemirror_mode": {
    "name": "ipython",
    "version": 3
   },
   "file_extension": ".py",
   "mimetype": "text/x-python",
   "name": "python",
   "nbconvert_exporter": "python",
   "pygments_lexer": "ipython3",
   "version": "3.7.0"
  }
 },
 "nbformat": 4,
 "nbformat_minor": 2
}
